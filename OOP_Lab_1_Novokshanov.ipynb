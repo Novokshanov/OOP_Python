{
 "cells": [
  {
   "cell_type": "markdown",
   "metadata": {},
   "source": [
    "Лабораторная работа по ООП. Новокшанов Дмитрий.\n",
    "\n",
    "Вариант:"
   ]
  },
  {
   "cell_type": "code",
   "execution_count": 1,
   "metadata": {},
   "outputs": [
    {
     "data": {
      "text/plain": [
       "2"
      ]
     },
     "execution_count": 1,
     "metadata": {},
     "output_type": "execute_result"
    }
   ],
   "source": [
    "((30 - 1) % 14) + 1"
   ]
  },
  {
   "cell_type": "markdown",
   "metadata": {},
   "source": [
    "__Задача.__\n",
    "\n",
    "Бакалавры с факультета математики открыли для себя множество комплексных чисел и теперь нуждаются в новом калькуляторе. Калькулятор должен поддерживать простейшие арифметические операции над числами, записанными в стеке.\n",
    "\n",
    "2.1 Комплексное число: действительная и мнимая часть\n",
    "\n",
    "2.2 Кватернион: действительная и три мнимых части (i, j, k)\n",
    "\n",
    "2.3 Калькулятор (стек чисел): метод, принимающий арифметическую операцию, выполняющий её (по возможности) над доступными элементами стека и вставляющий результат этой операции на их место.\n",
    "\n",
    "Link: https://ru.wikipedia.org/wiki/Кватернион\n"
   ]
  },
  {
   "cell_type": "code",
   "execution_count": 2,
   "metadata": {},
   "outputs": [],
   "source": [
    "# other представляет собой объект того же класса, с которым произойдет операция.\n",
    "\n",
    "class Quaternion:\n",
    "    \"\"\" Класс кватернионов, принимающий действительную и три мнимых части числа.\n",
    "        В нём определены стандартные арифметические операции между кватернионами. В виде строки число выводится в формате \"a + bi + cj + dk\"\n",
    "    \"\"\"\n",
    "    def __init__(self, real, imaginary_i, imaginary_j, imaginary_k):\n",
    "        self.real = real\n",
    "        self.imaginary_i = imaginary_i\n",
    "        self.imaginary_j = imaginary_j\n",
    "        self.imaginary_k = imaginary_k\n",
    "\n",
    "    # Переопределяем методы перегрузки операторов для кватерниона.\n",
    "    def __add__(self, other):\n",
    "        return Quaternion(self.real + other.real, self.imaginary_i + other.imaginary_i,\n",
    "                          self.imaginary_j + other.imaginary_j, self.imaginary_k + other.imaginary_k)\n",
    "\n",
    "    def __sub__(self, other):\n",
    "        return Quaternion(self.real - other.real, self.imaginary_i - other.imaginary_i,\n",
    "                          self.imaginary_j - other.imaginary_j, self.imaginary_k - other.imaginary_k)\n",
    "\n",
    "    def __mul__(self, other):\n",
    "        mul_quat_real = self.real * other.real - self.imaginary_i * other.imaginary_i - self.imaginary_j * other.imaginary_j - self.imaginary_k * other.imaginary_k\n",
    "        mul_quat_im_i = self.real * other.imaginary_i + self.imaginary_i * other.real + self.imaginary_j * other.imaginary_k - self.imaginary_k * other.imaginary_j\n",
    "        mul_quat_im_j = self.real * other.imaginary_j + other.real * self.imaginary_j + self.imaginary_k * other.imaginary_i - other.imaginary_k * self.imaginary_i\n",
    "        mul_quat_im_k = self.real * other.imaginary_k + other.real * self.imaginary_k + self.imaginary_i * other.imaginary_j - other.imaginary_i * self.imaginary_j\n",
    "        return Quaternion(mul_quat_real, mul_quat_im_i, mul_quat_im_j, mul_quat_im_k)\n",
    "\n",
    "    def __truediv__(self, other):\n",
    "        # Перевернуть other (сделать сопряженным), умножить это на self через __mul__ (*), поделить полученное на denominator (каждую часть)\n",
    "        other_conjugate = Quaternion(other.real, -other.imaginary_i, -other.imaginary_j, -other.imaginary_k)\n",
    "        q = Quaternion.__mul__(self, other_conjugate)\n",
    "        denominator = other.real**2 + other.imaginary_i**2 + other.imaginary_j**2 + other.imaginary_k**2\n",
    "        return Quaternion(q.real / denominator, q.imaginary_i / denominator, q.imaginary_j / denominator, q.imaginary_k / denominator)\n",
    "\n",
    "    # Функция определяет, как объект будет представляться в виде строки при возвращении результата операции.\n",
    "    def __str__(self):\n",
    "        return f\"{self.real} + {self.imaginary_i}i + {self.imaginary_j}j + {self.imaginary_k}k\""
   ]
  },
  {
   "cell_type": "code",
   "execution_count": 3,
   "metadata": {},
   "outputs": [],
   "source": [
    "# Создаём класс комплексных чисел, который наследуется от класса кватернионов. Класс обязательно будет принимать действительную и одну мнимую части,\n",
    "# а две другие мнимые части будут равняться нулям, что позволит не переопределять методы перегрузки операторов для орифметических операций с комплексными числами.\n",
    "# Также это позволит свободно производить операции между кватернионами и комплексными часлами и наоборот.\n",
    "\n",
    "class ComplexNumber(Quaternion):\n",
    "    \"\"\" Класс комплексных чисел, принимающий действительную и мнимую части комплексного числа.\n",
    "        Существует в виде кватерниона с мнимыми частями j и k равными нулю. Операции выполняются по схеме кватернионов. В виде строки число выводится в формате \"a + bi\"\n",
    "    \"\"\"\n",
    "    def __init__(self, real, imaginary_i): # Функция инициализации объекта после его создания принимает действительную и мнимую части компексного числа.\n",
    "        # Определяем принятые и унаследованные атрибуты аргумента.\n",
    "        super().__init__(real, imaginary_i, 0, 0)\n",
    "\n",
    "    # Переопределяем то, как объект будет представляться в виде строки при возвращении результата операции.\n",
    "    def __str__(self):\n",
    "        return f\"{self.real} + {self.imaginary_i}i\""
   ]
  },
  {
   "cell_type": "code",
   "execution_count": 4,
   "metadata": {},
   "outputs": [],
   "source": [
    "class Calculator:\n",
    "    \"\"\" Класс калькулятора, производящий простые арифметические операции между объектами классов ComplexNumber, Quaternion и скалярными значениями классов int и float.\n",
    "        Операции производятся над доступными элементами стека и результат этой операции вставляется на их место.\n",
    "    \"\"\"\n",
    "    def __init__(self):\n",
    "        self.stack = []\n",
    "\n",
    "    def push(self, item):\n",
    "        self.stack.append(item)\n",
    "\n",
    "    def pop(self):\n",
    "        if len(self.stack) < 1:\n",
    "            return None\n",
    "        return self.stack.pop()\n",
    "\n",
    "    def perform_operation(self, operator):\n",
    "        if len(self.stack) < 2:\n",
    "            print(\"Недостаточно элементов в стаке.\")\n",
    "            return\n",
    "\n",
    "        b = self.pop()\n",
    "        a = self.pop()\n",
    "\n",
    "        if operator == '+':\n",
    "            if isinstance(a, int) and isinstance(b, int):\n",
    "                result = a + b\n",
    "            elif isinstance(a, float) and isinstance(b, float):\n",
    "                result = a + b\n",
    "            else:\n",
    "                if isinstance(a, int) or isinstance(a, float):\n",
    "                    a = ComplexNumber(a, 0)\n",
    "                elif isinstance(b, int) or isinstance(b, float):\n",
    "                    b = ComplexNumber(b, 0)\n",
    "                result = a + b\n",
    "                #Так как сами операции происходят с кватернионами, то переопределяем результат операции в класс комплексных чисел если j и k равны нулю.\n",
    "                if result.imaginary_j == 0 and result.imaginary_k == 0:\n",
    "                    result = ComplexNumber(result.real, result.imaginary_i)\n",
    "        \n",
    "        elif operator == '-':\n",
    "            if isinstance(a, int) and isinstance(b, int):\n",
    "                result = a - b\n",
    "            elif isinstance(a, float) and isinstance(b, float):\n",
    "                result = a - b\n",
    "            else:\n",
    "                if isinstance(a, int) or isinstance(a, float):\n",
    "                    a = ComplexNumber(a, 0)\n",
    "                elif isinstance(b, int) or isinstance(b, float):\n",
    "                    b = ComplexNumber(b, 0)\n",
    "                result = a - b\n",
    "                if result.imaginary_j == 0 and result.imaginary_k == 0:\n",
    "                    result = ComplexNumber(result.real, result.imaginary_i)\n",
    "\n",
    "        elif operator == '*':\n",
    "            if isinstance(a, int) and isinstance(b, int):\n",
    "                result = a * b\n",
    "            elif isinstance(a, float) and isinstance(b, float):\n",
    "                result = a * b\n",
    "            else:\n",
    "                if isinstance(a, int) or isinstance(a, float):\n",
    "                    a = ComplexNumber(a, 0)\n",
    "                elif isinstance(b, int) or isinstance(b, float):\n",
    "                    b = ComplexNumber(b, 0)\n",
    "                result = a * b\n",
    "                if result.imaginary_j == 0 and result.imaginary_k == 0:\n",
    "                    result = ComplexNumber(result.real, result.imaginary_i)\n",
    "\n",
    "        elif operator == '/':\n",
    "            if b == 0:\n",
    "                print('Деление на ноль')\n",
    "            else:\n",
    "                if isinstance(a, int) and isinstance(b, int):\n",
    "                    result = a / b\n",
    "                elif isinstance(a, float) and isinstance(b, float):\n",
    "                    result = a / b\n",
    "                else:\n",
    "                    if isinstance(a, int) or isinstance(a, float):\n",
    "                        a = ComplexNumber(a, 0)\n",
    "                    elif isinstance(b, int) or isinstance(b, float):\n",
    "                        b = ComplexNumber(b, 0)\n",
    "                    result = a / b\n",
    "                    if result.imaginary_j == 0 and result.imaginary_k == 0:\n",
    "                        result = ComplexNumber(result.real, result.imaginary_i)\n",
    "\n",
    "        self.push(result)\n",
    "        print(f\"Ответ: {result}\")"
   ]
  },
  {
   "cell_type": "markdown",
   "metadata": {},
   "source": [
    "Проверяем работу калькулятора со скалярными значениями.\n",
    "(Проверял в том числе тут: https://www.redcrab-software.com/en/Calculator/Quaternion-Calculator)"
   ]
  },
  {
   "cell_type": "code",
   "execution_count": 5,
   "metadata": {},
   "outputs": [
    {
     "name": "stdout",
     "output_type": "stream",
     "text": [
      "Ответ: 3\n",
      "<class 'int'>\n",
      "Ответ: -1\n",
      "Ответ: 2\n",
      "Ответ: 0.5\n",
      "<class 'float'>\n"
     ]
    }
   ],
   "source": [
    "calc = Calculator()\n",
    "num1 = 1\n",
    "num2 = 2\n",
    "calc.push(num1)\n",
    "calc.push(num2)\n",
    "calc.perform_operation('+')\n",
    "print(type(calc.pop()))\n",
    "\n",
    "calc.push(num1)\n",
    "calc.push(num2)\n",
    "calc.perform_operation('-')\n",
    "\n",
    "calc.push(num1)\n",
    "calc.push(num2)\n",
    "calc.perform_operation('*')\n",
    "\n",
    "calc.push(num1)\n",
    "calc.push(num2)\n",
    "calc.perform_operation('/')\n",
    "print(type(calc.pop()))\n",
    "\n"
   ]
  },
  {
   "cell_type": "markdown",
   "metadata": {},
   "source": [
    "Проверяем работу калькулятора с комплексными числами."
   ]
  },
  {
   "cell_type": "code",
   "execution_count": 6,
   "metadata": {},
   "outputs": [
    {
     "name": "stdout",
     "output_type": "stream",
     "text": [
      "Ответ: 4 + 6i\n",
      "<class '__main__.ComplexNumber'>\n",
      "Ответ: -2 + -2i\n",
      "Ответ: -5 + 10i\n",
      "Ответ: 0.44 + 0.08i\n",
      "<class '__main__.ComplexNumber'>\n"
     ]
    }
   ],
   "source": [
    "cnum1 = ComplexNumber(1, 2)\n",
    "cnum2 = ComplexNumber(3, 4)\n",
    "calc.push(cnum1)\n",
    "calc.push(cnum2)\n",
    "calc.perform_operation('+')\n",
    "print(type(calc.pop()))\n",
    "\n",
    "calc.push(cnum1)\n",
    "calc.push(cnum2)\n",
    "calc.perform_operation('-')\n",
    "\n",
    "calc.push(cnum1)\n",
    "calc.push(cnum2)\n",
    "calc.perform_operation('*')\n",
    "\n",
    "calc.push(cnum1)\n",
    "calc.push(cnum2)\n",
    "calc.perform_operation('/')\n",
    "print(type(calc.pop()))"
   ]
  },
  {
   "cell_type": "markdown",
   "metadata": {},
   "source": [
    "Проверяем арифметические операции между комплексными числами и скалярными значениями в обе стороны."
   ]
  },
  {
   "cell_type": "code",
   "execution_count": 7,
   "metadata": {},
   "outputs": [
    {
     "name": "stdout",
     "output_type": "stream",
     "text": [
      "Ответ: 4 + 4i\n",
      "<class '__main__.ComplexNumber'>\n",
      "Ответ: 2 + 4i\n",
      "Ответ: 3 + 4i\n",
      "Ответ: 3.0 + 4.0i\n",
      "<class '__main__.ComplexNumber'>\n"
     ]
    }
   ],
   "source": [
    "calc.push(num1)\n",
    "calc.push(cnum2)\n",
    "calc.perform_operation('+')\n",
    "print(type(calc.pop()))\n",
    "\n",
    "calc.push(cnum2)\n",
    "calc.push(num1)\n",
    "calc.perform_operation('-')\n",
    "\n",
    "calc.push(num1)\n",
    "calc.push(cnum2)\n",
    "calc.perform_operation('*')\n",
    "\n",
    "calc.push(cnum2)\n",
    "calc.push(num1)\n",
    "calc.perform_operation('/')\n",
    "print(type(calc.pop()))"
   ]
  },
  {
   "cell_type": "markdown",
   "metadata": {},
   "source": [
    "Проверяем работу калькулятора кватернионами."
   ]
  },
  {
   "cell_type": "code",
   "execution_count": 10,
   "metadata": {},
   "outputs": [
    {
     "name": "stdout",
     "output_type": "stream",
     "text": [
      "Ответ: 3 + 5i + 7j + 9k\n",
      "<class '__main__.Quaternion'>\n",
      "Ответ: -1 + -1i + -1j + -1k\n",
      "Ответ: -36 + 6i + 12j + 12k\n",
      "Ответ: 0.7407407407407407 + 0.037037037037037035i + 0.0j + 0.07407407407407407k\n",
      "<class '__main__.Quaternion'>\n"
     ]
    }
   ],
   "source": [
    "quat1 = Quaternion(1, 2, 3, 4)\n",
    "quat2 = Quaternion(2, 3, 4, 5)\n",
    "calc.push(quat1)\n",
    "calc.push(quat2)\n",
    "calc.perform_operation('+')\n",
    "print(type(calc.pop()))\n",
    "\n",
    "calc.push(quat1)\n",
    "calc.push(quat2)\n",
    "calc.perform_operation('-')\n",
    "\n",
    "calc.push(quat1)\n",
    "calc.push(quat2)\n",
    "calc.perform_operation('*')\n",
    "\n",
    "calc.push(quat1)\n",
    "calc.push(quat2)\n",
    "calc.perform_operation('/')\n",
    "print(type(calc.pop()))"
   ]
  },
  {
   "cell_type": "markdown",
   "metadata": {},
   "source": [
    "Проверяем работу арифметические операции между кватернионами и скалярными значениями в обе стороны."
   ]
  },
  {
   "cell_type": "code",
   "execution_count": 11,
   "metadata": {},
   "outputs": [
    {
     "name": "stdout",
     "output_type": "stream",
     "text": [
      "Ответ: 3 + 2i + 3j + 4k\n",
      "<class '__main__.Quaternion'>\n",
      "Ответ: -1 + 2i + 3j + 4k\n",
      "Ответ: 2 + 4i + 6j + 8k\n",
      "Ответ: 0.5 + 1.0i + 1.5j + 2.0k\n",
      "<class '__main__.Quaternion'>\n"
     ]
    }
   ],
   "source": [
    "calc.push(num2)\n",
    "calc.push(quat1)\n",
    "calc.perform_operation('+')\n",
    "print(type(calc.pop()))\n",
    "\n",
    "calc.push(quat1)\n",
    "calc.push(num2)\n",
    "calc.perform_operation('-')\n",
    "\n",
    "calc.push(num2)\n",
    "calc.push(quat1)\n",
    "calc.perform_operation('*')\n",
    "\n",
    "calc.push(quat1)\n",
    "calc.push(num2)\n",
    "calc.perform_operation('/')\n",
    "print(type(calc.pop()))"
   ]
  },
  {
   "cell_type": "markdown",
   "metadata": {},
   "source": [
    "Проверяем работу арифметических операций между кватернионами комплексными числами в обе стороны."
   ]
  },
  {
   "cell_type": "code",
   "execution_count": 12,
   "metadata": {},
   "outputs": [
    {
     "name": "stdout",
     "output_type": "stream",
     "text": [
      "Ответ: 2 + 4i + 3j + 4k\n",
      "<class '__main__.Quaternion'>\n",
      "Ответ: 0 + 0i + 3j + 4k\n",
      "Ответ: -3 + 4i + -5j + 10k\n",
      "Ответ: 1.0 + 0.0i + -1.0j + 2.0k\n",
      "<class '__main__.Quaternion'>\n"
     ]
    }
   ],
   "source": [
    "calc.push(cnum1)\n",
    "calc.push(quat1)\n",
    "calc.perform_operation('+')\n",
    "print(type(calc.pop()))\n",
    "\n",
    "calc.push(quat1)\n",
    "calc.push(cnum1)\n",
    "calc.perform_operation('-')\n",
    "\n",
    "calc.push(cnum1)\n",
    "calc.push(quat1)\n",
    "calc.perform_operation('*')\n",
    "\n",
    "calc.push(quat1)\n",
    "calc.push(cnum1)\n",
    "calc.perform_operation('/')\n",
    "print(type(calc.pop()))"
   ]
  }
 ],
 "metadata": {
  "kernelspec": {
   "display_name": "Python 3",
   "language": "python",
   "name": "python3"
  },
  "language_info": {
   "codemirror_mode": {
    "name": "ipython",
    "version": 3
   },
   "file_extension": ".py",
   "mimetype": "text/x-python",
   "name": "python",
   "nbconvert_exporter": "python",
   "pygments_lexer": "ipython3",
   "version": "3.11.5"
  }
 },
 "nbformat": 4,
 "nbformat_minor": 2
}
